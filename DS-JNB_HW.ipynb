{
 "cells": [
  {
   "cell_type": "markdown",
   "id": "0ad7f6d6",
   "metadata": {},
   "source": [
    "# DS개론 JNB 과제 \n",
    "202203862 인도어과 황현성  \n",
    "\"정상동작\""
   ]
  },
  {
   "cell_type": "markdown",
   "id": "9d0498fd",
   "metadata": {},
   "source": [
    "## 1. ssl.py"
   ]
  },
  {
   "cell_type": "code",
   "execution_count": 16,
   "id": "00c1a1a1",
   "metadata": {},
   "outputs": [],
   "source": [
    "# 202203862 인도어과 황현성 \n",
    "# \"정상동작\"\n",
    "\n",
    "# Node 클래스 정의\n",
    "class Node:\n",
    "    def __init__(self, data):\n",
    "        self.data = data\n",
    "        self.next = None\n",
    "\n",
    "# LinkedList 클래스 정의\n",
    "class LinkedList:\n",
    "    \n",
    "    # 초기화 메소드\n",
    "    def __init__(self):\n",
    "        dummy = Node(\"dummy\")\n",
    "        self.head = dummy\n",
    "        self.tail = dummy\n",
    "\n",
    "        self.current = None\n",
    "        self.before = None\n",
    "\n",
    "        self.num_of_data = 0\n",
    "        \n",
    "    # append 메소드 (insert - 맨 뒤에 노드 추가, tail과 node의 next, 데이터 개수 변경)\n",
    "    def append(self, data):\n",
    "        new_node = Node(data)\n",
    "        self.tail.next = new_node\n",
    "        self.tail = new_node\n",
    "\n",
    "        self.num_of_data += 1\n",
    "    \n",
    "    # delete 메소드 (delete - current 노드 삭제, 인접 노드의 current, next 변경, 데이터 개수 변경)\n",
    "    def delete(self):\n",
    "        pop_data = self.current.data\n",
    "\n",
    "        if self.current is self.tail:\n",
    "            self.tail = self.before\n",
    "\n",
    "            # 중요 : current가 next가 아닌 before로 변경된다.\n",
    "            self.before.next = self.current.next\n",
    "            self.current = self.before \n",
    "\n",
    "            self.num_of_data -= 1\n",
    "\n",
    "            return pop_data\n",
    "\n",
    "    # first 메소드 (search1 - 맨 앞의 노드 검색, before, current 변경)\n",
    "    def first(self):\n",
    "        if self.num_of_data == 0: \n",
    "            return None\n",
    "\n",
    "        self.before = self.head\n",
    "        self.current = self.head.next\n",
    "\n",
    "        return self.current.data\n",
    "    \n",
    "    # next 메소드 (search2 - current 노드의 다음 노드 검색, 이전에 first 메소드가 한번은 실행되어야 함)\n",
    "    def next(self):\n",
    "        if self.current.next == None:\n",
    "            return None\n",
    "\n",
    "        self.before = self.current\n",
    "        self.current = self.current.next\n",
    "\n",
    "        return self.current.data\n",
    "    \n",
    "    # size 메소드\n",
    "    def size(self):\n",
    "        return self.num_of_data  \n",
    "    \n",
    "    # traverse_all 메소드(current 노드 검색을 반복하여 전체 노드를 탐색, 탐색결과 출력)\n",
    "    def traverse_all(self):\n",
    "        self.current = self.head.next\n",
    "\n",
    "        print(\"head -> \", end=\"\")\n",
    "\n",
    "        while self.current is not None:\n",
    "            print(\"(\"+str(self.current.data)+\") -> \", end=\"\")\n",
    "            self.current = self.current.next\n",
    "        print(\"null\")     \n",
    "        \n",
    "    # insert_at 메소드(position-1번째의 노드 앞에 새로운 노드를 삽입, 데이터 개수 변경)\n",
    "    def insert_at(self, position, new_data): \n",
    "        new_node = Node(new_data)\n",
    "        \n",
    "        # position이 0인 경우 error 출력\n",
    "        if position <= 0:\n",
    "            print(\"error\")\n",
    "            return\n",
    "        \n",
    "        # 중요 : 아래에 작성된 삽입 반복문은 position이 1인 경우 동작하지 않으므로 position이 1인 경우는 따로 작성함\n",
    "        if position == 1:\n",
    "            new_node.next = self.head.next\n",
    "            self.head.next = new_node\n",
    "            self.num_of_data += 1\n",
    "            return\n",
    "        \n",
    "        # position이 현재 리스트의 원소 개수보다 크다면 맨 마지막에 새로운 노드를  삽입\n",
    "        if position > self.num_of_data:\n",
    "            self.append(new_data)\n",
    "            return\n",
    "\n",
    "        self.current = self.head.next\n",
    "\n",
    "        # 새로운 노드를 삽입할 자리까지 이동\n",
    "        for _ in range(position-1):\n",
    "            self.before = self.current\n",
    "            self.current = self.current.next\n",
    "\n",
    "        new_node.next = self.before.next\n",
    "        self.before.next= new_node\n",
    "\n",
    "        self.num_of_data += 1\n",
    "        \n",
    "    # remove 메소드(순차적 노드 탐색 후 key값을 가진 노드 인접 노드의 next, current 변경하여 값을 삭제, 데이터 개수 변경)\n",
    "    def remove(self, key):\n",
    "        self.before = self.head\n",
    "        self.current = self.head.next\n",
    "        \n",
    "        removed_num = 0\n",
    "\n",
    "        for i in range(1, self.num_of_data+1):\n",
    "\n",
    "            if self.current.data == key:\n",
    "                self.before.next = self.current.next\n",
    "                self.current = self.current.next\n",
    "                print(f\"{i}번째 원소 {key}를 삭제합니다.\")\n",
    "\n",
    "                self.num_of_data -= 1\n",
    "                removed_num += 1\n",
    "\n",
    "            else:\n",
    "                self.before = self.current\n",
    "                self.current = self.current.next\n",
    "\n",
    "        if removed_num == 0:\n",
    "            print(\"해당하는 원소가 없습니다.\")"
   ]
  },
  {
   "cell_type": "markdown",
   "id": "5a815509",
   "metadata": {},
   "source": [
    "## 2. 테스트"
   ]
  },
  {
   "cell_type": "markdown",
   "id": "31c77db1",
   "metadata": {},
   "source": [
    "### 2-1. traverse_all 메소드 테스트"
   ]
  },
  {
   "cell_type": "markdown",
   "id": "4d5570c0",
   "metadata": {},
   "source": [
    "LinkedList 객체 L을 생성하고 3개의 데이터를 추가한 후 traverse_all 메소드를 실행해 모든 데이터가 순서대로 출력되는지 테스트한다."
   ]
  },
  {
   "cell_type": "code",
   "execution_count": 28,
   "id": "ba832e30",
   "metadata": {},
   "outputs": [
    {
     "name": "stdout",
     "output_type": "stream",
     "text": [
      "head -> (1) -> (2) -> (3) -> null\n"
     ]
    }
   ],
   "source": [
    "L = LinkedList()\n",
    "L.append(1)\n",
    "L.append(2)\n",
    "L.append(3)\n",
    "L.traverse_all()"
   ]
  },
  {
   "cell_type": "markdown",
   "id": "effce2be",
   "metadata": {},
   "source": [
    "정상적으로 모든 데이터가 순서대로 출력되었다."
   ]
  },
  {
   "cell_type": "markdown",
   "id": "19d48919",
   "metadata": {},
   "source": [
    "이번에는 데이터가 없는 상태에서도 정상적으로 동작하는지 보기 위해 빈 LinkedList 객체 L를 생성하고 traverse_all 메소드를 실행해 테스트한다."
   ]
  },
  {
   "cell_type": "code",
   "execution_count": 37,
   "id": "6b5ed729",
   "metadata": {},
   "outputs": [
    {
     "name": "stdout",
     "output_type": "stream",
     "text": [
      "head -> null\n"
     ]
    }
   ],
   "source": [
    "L = LinkedList()\n",
    "L.traverse_all()"
   ]
  },
  {
   "cell_type": "markdown",
   "id": "6ffbd7bc",
   "metadata": {},
   "source": [
    "데이터가 없는 상태의 연결리스트에서 traverse_all 메소드를 실행했을때 current는 head.next인데 head.next는 None이기때문에 head와 null만 출력됨을 알 수 있다."
   ]
  },
  {
   "cell_type": "markdown",
   "id": "d4041ce2",
   "metadata": {},
   "source": [
    "### 2-2. insert_at 메소드 테스트"
   ]
  },
  {
   "cell_type": "markdown",
   "id": "55ae997a",
   "metadata": {},
   "source": [
    "LinkedList 객체 L을 생성하고 5개의 데이터를 추가한 후 insert_at 메소드로 리스트의 3번째에 99라는 데이터를 삽입하고 traverse_all 메소드를 사용해 결과를 확인한다."
   ]
  },
  {
   "cell_type": "code",
   "execution_count": 29,
   "id": "8007f25b",
   "metadata": {},
   "outputs": [
    {
     "name": "stdout",
     "output_type": "stream",
     "text": [
      "head -> (1) -> (2) -> (99) -> (3) -> (4) -> (5) -> null\n"
     ]
    }
   ],
   "source": [
    "L = LinkedList()\n",
    "L.append(1)\n",
    "L.append(2)\n",
    "L.append(3)\n",
    "L.append(4)\n",
    "L.append(5)\n",
    "L.insert_at(3, 99)\n",
    "L.traverse_all()"
   ]
  },
  {
   "cell_type": "markdown",
   "id": "02999df5",
   "metadata": {},
   "source": [
    "정상적으로 3번째에 99라는 데이터가 삽입되었다."
   ]
  },
  {
   "cell_type": "markdown",
   "id": "c78cac02",
   "metadata": {},
   "source": [
    "이번에는 0 이하의 position 값을 입력하고 결과를 확인한다."
   ]
  },
  {
   "cell_type": "code",
   "execution_count": 33,
   "id": "011294c6",
   "metadata": {},
   "outputs": [
    {
     "name": "stdout",
     "output_type": "stream",
     "text": [
      "error\n"
     ]
    }
   ],
   "source": [
    "L = LinkedList()\n",
    "L.append(1)\n",
    "L.append(2)\n",
    "L.append(3)\n",
    "L.append(4)\n",
    "L.append(5)\n",
    "L.insert_at(0, 99)"
   ]
  },
  {
   "cell_type": "markdown",
   "id": "db1deb7d",
   "metadata": {},
   "source": [
    "정상적으로 error 문이 출력되었다."
   ]
  },
  {
   "cell_type": "markdown",
   "id": "c20b2404",
   "metadata": {},
   "source": [
    "마지막으로 position 값을 현재 리스트 크기보다 크게 입력하고 traverse_all 메소드를 사용해 결과를 확인한다."
   ]
  },
  {
   "cell_type": "code",
   "execution_count": 36,
   "id": "066d6ebd",
   "metadata": {},
   "outputs": [
    {
     "name": "stdout",
     "output_type": "stream",
     "text": [
      "head -> (1) -> (2) -> (3) -> (4) -> (5) -> (99) -> null\n"
     ]
    }
   ],
   "source": [
    "L = LinkedList()\n",
    "L.append(1)\n",
    "L.append(2)\n",
    "L.append(3)\n",
    "L.append(4)\n",
    "L.append(5)\n",
    "L.insert_at(10, 99)\n",
    "L.traverse_all()"
   ]
  },
  {
   "cell_type": "markdown",
   "id": "48b271eb",
   "metadata": {},
   "source": [
    "정상적으로 맨 마지막에 99라는 데이터가 삽입되었다."
   ]
  },
  {
   "cell_type": "markdown",
   "id": "07bc5104",
   "metadata": {},
   "source": [
    "### 2-3. remove() 메소드 테스트"
   ]
  },
  {
   "cell_type": "markdown",
   "id": "ff8fb815",
   "metadata": {},
   "source": [
    "#### 2-3-1. 리스트 내에 key값과 일치하는 원소가 존재하는 경우"
   ]
  },
  {
   "cell_type": "markdown",
   "id": "48764ecd",
   "metadata": {},
   "source": [
    "LinkedList 객체 L을 생성하고 10개의 데이터를 추가한 후 size 메소드로 리스트 내 원소의 개수와 traverse_all 메소드로 노드들의 데이터를 확인하고 remove 메소드로 리스트 내의 99를 모두 삭제한다. 그 후 size 메소드와 traverse_all 메소드를 사용해 결과를 확인한다."
   ]
  },
  {
   "cell_type": "code",
   "execution_count": 30,
   "id": "24081127",
   "metadata": {},
   "outputs": [
    {
     "name": "stdout",
     "output_type": "stream",
     "text": [
      "9\n",
      "head -> (1) -> (99) -> (2) -> (99) -> (3) -> (99) -> (4) -> (99) -> (5) -> null\n",
      "2번째 원소 99를 삭제합니다.\n",
      "4번째 원소 99를 삭제합니다.\n",
      "6번째 원소 99를 삭제합니다.\n",
      "8번째 원소 99를 삭제합니다.\n",
      "5\n",
      "head -> (1) -> (2) -> (3) -> (4) -> (5) -> null\n"
     ]
    }
   ],
   "source": [
    "L = LinkedList()\n",
    "L.append(1)\n",
    "L.append(99)\n",
    "L.append(2)\n",
    "L.append(99)\n",
    "L.append(3)\n",
    "L.append(99)\n",
    "L.append(4)\n",
    "L.append(99)\n",
    "L.append(5)\n",
    "print(L.size())\n",
    "L.traverse_all()\n",
    "L.remove(99)\n",
    "print(L.size())\n",
    "L.traverse_all()"
   ]
  },
  {
   "cell_type": "markdown",
   "id": "af9bdba7",
   "metadata": {},
   "source": [
    "리스트 내 원소의 개수가 9개에서 5개로 변했고, 정상적으로 리스트 내의 모든 99가 삭제되었다."
   ]
  },
  {
   "cell_type": "markdown",
   "id": "53b09254",
   "metadata": {},
   "source": [
    "#### 2-3-2. 리스트 내에 key값과 일치하는 원소가 존재하지 않는 경우"
   ]
  },
  {
   "cell_type": "markdown",
   "id": "612ad727",
   "metadata": {},
   "source": [
    "LinkedList 객체 L을 생성하고 5개의 데이터를 추가한 후 size 메소드로 리스트 내 원소의 개수와 traverse_all 메소드로 노드들의 데이터를 확인하고 remove 메소드로 6을 삭제한다. 그 후 size 메소드와 traverse_all 메소드를 사용해 결과를 확인한다."
   ]
  },
  {
   "cell_type": "code",
   "execution_count": 31,
   "id": "79ad68a2",
   "metadata": {},
   "outputs": [
    {
     "name": "stdout",
     "output_type": "stream",
     "text": [
      "5\n",
      "head -> (1) -> (2) -> (3) -> (4) -> (5) -> null\n",
      "해당하는 원소가 없습니다.\n",
      "5\n",
      "head -> (1) -> (2) -> (3) -> (4) -> (5) -> null\n"
     ]
    }
   ],
   "source": [
    "L = LinkedList()\n",
    "L.append(1)\n",
    "L.append(2)\n",
    "L.append(3)\n",
    "L.append(4)\n",
    "L.append(5)\n",
    "print(L.size())\n",
    "L.traverse_all()\n",
    "L.remove(6)\n",
    "print(L.size())\n",
    "L.traverse_all()"
   ]
  },
  {
   "cell_type": "markdown",
   "id": "21de631f",
   "metadata": {},
   "source": [
    "리스트의 원소 개수는 변하지 않았고 \"해당하는 원소가 없습니다.\"가 정상적으로 출력되었다."
   ]
  }
 ],
 "metadata": {
  "kernelspec": {
   "display_name": "Python 3 (ipykernel)",
   "language": "python",
   "name": "python3"
  },
  "language_info": {
   "codemirror_mode": {
    "name": "ipython",
    "version": 3
   },
   "file_extension": ".py",
   "mimetype": "text/x-python",
   "name": "python",
   "nbconvert_exporter": "python",
   "pygments_lexer": "ipython3",
   "version": "3.10.9"
  },
  "toc": {
   "base_numbering": 1,
   "nav_menu": {},
   "number_sections": false,
   "sideBar": false,
   "skip_h1_title": false,
   "title_cell": "Table of Contents",
   "title_sidebar": "Contents",
   "toc_cell": false,
   "toc_position": {
    "height": "603.323px",
    "left": "33px",
    "top": "110.229px",
    "width": "165px"
   },
   "toc_section_display": true,
   "toc_window_display": true
  },
  "varInspector": {
   "cols": {
    "lenName": 16,
    "lenType": 16,
    "lenVar": 40
   },
   "kernels_config": {
    "python": {
     "delete_cmd_postfix": "",
     "delete_cmd_prefix": "del ",
     "library": "var_list.py",
     "varRefreshCmd": "print(var_dic_list())"
    },
    "r": {
     "delete_cmd_postfix": ") ",
     "delete_cmd_prefix": "rm(",
     "library": "var_list.r",
     "varRefreshCmd": "cat(var_dic_list()) "
    }
   },
   "oldHeight": 122.85466599999998,
   "position": {
    "height": "40px",
    "left": "1307px",
    "right": "20px",
    "top": "115px",
    "width": "290.667px"
   },
   "types_to_exclude": [
    "module",
    "function",
    "builtin_function_or_method",
    "instance",
    "_Feature"
   ],
   "varInspector_section_display": "none",
   "window_display": true
  }
 },
 "nbformat": 4,
 "nbformat_minor": 5
}
