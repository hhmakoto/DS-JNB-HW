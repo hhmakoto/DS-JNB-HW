{
 "cells": [
  {
   "cell_type": "markdown",
   "id": "0ad7f6d6",
   "metadata": {},
   "source": [
    "# DS개론 JNB 과제 \n",
    "202203862 인도어과 황현성"
   ]
  },
  {
   "cell_type": "markdown",
   "id": "9d0498fd",
   "metadata": {},
   "source": [
    "## 1. 기존 ssl.py"
   ]
  },
  {
   "cell_type": "code",
   "execution_count": null,
   "id": "00c1a1a1",
   "metadata": {},
   "outputs": [],
   "source": [
    "class Node:\n",
    "    def __init__(self, data):\n",
    "        self.data = data\n",
    "        self.next = None\n",
    "\n",
    "class LinkedList:\n",
    "    def __init__(self):\n",
    "        dummy = Node(\"dummy\")\n",
    "        self.head = dummy\n",
    "        self.tail = dummy\n",
    "\n",
    "        self.current = None\n",
    "        self.before = None\n",
    "\n",
    "        self.num_of_data = 0\n",
    "        \n",
    "    def append(self, data):\n",
    "        new_node = Node(data)\n",
    "        self.tail.next = new_node\n",
    "        self.tail = new_node\n",
    "\n",
    "        self.num_of_data += 1\n",
    "\n",
    "    def delete(self):\n",
    "        pop_data = self.current.data\n",
    "\n",
    "        if self.current is self.tail:\n",
    "            self.tail = self.before\n",
    "\n",
    "            self.before.next = self.current.next\n",
    "            self.current = self.before \n",
    "\n",
    "            self.num_of_data -= 1\n",
    "\n",
    "            return pop_data\n",
    "\n",
    "    def first(self):\n",
    "        if self.num_of_data == 0: \n",
    "            return None\n",
    "\n",
    "        self.before = self.head\n",
    "        self.current = self.head.next\n",
    "\n",
    "        return self.current.data\n",
    "\n",
    "    def next(self):\n",
    "        if self.current.next == None:\n",
    "            return None\n",
    "\n",
    "        self.before = self.current\n",
    "        self.current = self.current.next\n",
    "\n",
    "        return self.current.data\n",
    "    \n",
    "    def size(self):\n",
    "        return self.num_of_data  "
   ]
  },
  {
   "cell_type": "markdown",
   "id": "185a0077",
   "metadata": {},
   "source": [
    "## 2. traverse_all 함수 추가  \n",
    "current 노드를 head의 next로 선언하고 head를 출력한다.  \n",
    "반복문을 통해 노드의 값을 출력하고 current노드를 current.next로 선언함으로써 순차적 탐색을 한다.  \n",
    "탐색을 마치고 null을 출력한다"
   ]
  },
  {
   "cell_type": "code",
   "execution_count": null,
   "id": "214ead3b",
   "metadata": {},
   "outputs": [],
   "source": [
    "    def traverse_all(self):\n",
    "        self.current = self.head.next\n",
    "\n",
    "        print(\"head -> \", end=\"\")\n",
    "\n",
    "        while self.current is not None:\n",
    "            print(\"(\"+str(self.current.data)+\") -> \", end=\"\")\n",
    "            self.current = self.current.next\n",
    "        print(\"null\")     "
   ]
  },
  {
   "cell_type": "markdown",
   "id": "b62466ba",
   "metadata": {},
   "source": [
    "## 3. insert_at 함수 추가"
   ]
  },
  {
   "cell_type": "code",
   "execution_count": null,
   "id": "47bb717a",
   "metadata": {},
   "outputs": [],
   "source": [
    "    def insert_at(self, position, new_data):\n",
    "        new_node = Node(new_data)\n",
    "        if position <= 0:\n",
    "            print(\"error\")\n",
    "            return\n",
    "        \n",
    "        if position == 1:\n",
    "            new_node.next = self.head.next\n",
    "            self.head.next = new_node\n",
    "            self.num_of_data += 1\n",
    "            return\n",
    "\n",
    "        if position > self.num_of_data:\n",
    "            self.append(new_data)\n",
    "            return\n",
    "\n",
    "        self.current = self.head.next\n",
    "\n",
    "        for _ in range(position-1):\n",
    "            self.before = self.current\n",
    "            self.current = self.current.next\n",
    "        \n",
    "        new_node.next = self.before.next\n",
    "        self.before.next= new_node\n",
    "        \n",
    "        self.num_of_data += 1"
   ]
  },
  {
   "cell_type": "code",
   "execution_count": null,
   "id": "2f9bd2a8",
   "metadata": {},
   "outputs": [],
   "source": []
  }
 ],
 "metadata": {
  "kernelspec": {
   "display_name": "Python 3 (ipykernel)",
   "language": "python",
   "name": "python3"
  },
  "language_info": {
   "codemirror_mode": {
    "name": "ipython",
    "version": 3
   },
   "file_extension": ".py",
   "mimetype": "text/x-python",
   "name": "python",
   "nbconvert_exporter": "python",
   "pygments_lexer": "ipython3",
   "version": "3.10.9"
  },
  "toc": {
   "base_numbering": 1,
   "nav_menu": {},
   "number_sections": false,
   "sideBar": true,
   "skip_h1_title": false,
   "title_cell": "Table of Contents",
   "title_sidebar": "Contents",
   "toc_cell": false,
   "toc_position": {
    "height": "603.333px",
    "left": "89px",
    "top": "110.229px",
    "width": "165px"
   },
   "toc_section_display": true,
   "toc_window_display": true
  },
  "varInspector": {
   "cols": {
    "lenName": 16,
    "lenType": 16,
    "lenVar": 40
   },
   "kernels_config": {
    "python": {
     "delete_cmd_postfix": "",
     "delete_cmd_prefix": "del ",
     "library": "var_list.py",
     "varRefreshCmd": "print(var_dic_list())"
    },
    "r": {
     "delete_cmd_postfix": ") ",
     "delete_cmd_prefix": "rm(",
     "library": "var_list.r",
     "varRefreshCmd": "cat(var_dic_list()) "
    }
   },
   "oldHeight": 122.85466599999998,
   "position": {
    "height": "144.188px",
    "left": "949px",
    "right": "20px",
    "top": "118px",
    "width": "290.667px"
   },
   "types_to_exclude": [
    "module",
    "function",
    "builtin_function_or_method",
    "instance",
    "_Feature"
   ],
   "varInspector_section_display": "block",
   "window_display": true
  }
 },
 "nbformat": 4,
 "nbformat_minor": 5
}
