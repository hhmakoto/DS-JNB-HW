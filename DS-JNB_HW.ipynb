{
 "cells": [
  {
   "cell_type": "markdown",
   "id": "0ad7f6d6",
   "metadata": {},
   "source": [
    "# DS개론 JNB 과제 \n",
    "202203862 인도어과 황현성"
   ]
  },
  {
   "cell_type": "markdown",
   "id": "9d0498fd",
   "metadata": {},
   "source": [
    "### 1. 기존 ssl.py"
   ]
  },
  {
   "cell_type": "code",
   "execution_count": null,
   "id": "00c1a1a1",
   "metadata": {},
   "outputs": [],
   "source": [
    "class Node:\n",
    "\tdef __init__(self, data):\n",
    "\t\tself.data = data\n",
    "\t\tself.next = None\n",
    "\n",
    "class LinkedList:\n",
    "\tdef __init__(self):\n",
    "\t\tdummy = Node(\"dummy\")\n",
    "\t\tself.head = dummy\n",
    "\t\tself.tail = dummy\n",
    "\n",
    "\t\tself.current = None\n",
    "\t\tself.before = None\n",
    "\n",
    "\t\tself.num_of_data = 0\n",
    "        \n",
    "\tdef append(self, data):\n",
    "\t\tnew_node = Node(data)\n",
    "\t\tself.tail.next = new_node\n",
    "\t\tself.tail = new_node\n",
    "\n",
    "\t\tself.num_of_data += 1\n",
    "\n",
    "\tdef delete(self):\n",
    "\t\tpop_data = self.current.data\n",
    "\n",
    "\t\tif self.current is self.tail:\n",
    "\t\t\tself.tail = self.before\n",
    "\n",
    "\t\t\tself.before.next = self.current.next\n",
    "\t\t\tself.current = self.before \n",
    "\n",
    "\t\t\tself.num_of_data -= 1\n",
    "\n",
    "\t\t\treturn pop_data\n",
    "\n",
    "\tdef first(self):\n",
    "\t\tif self.num_of_data == 0: \n",
    "\t\t\treturn None\n",
    "\n",
    "\t\tself.before = self.head\n",
    "\t\tself.current = self.head.next\n",
    "\n",
    "\t\treturn self.current.data\n",
    "\n",
    "\tdef next(self):\n",
    "\t\tif self.current.next == None:\n",
    "\t\t\treturn None\n",
    "\n",
    "\t\tself.before = self.current\n",
    "\t\tself.current = self.current.next\n",
    "\n",
    "\t\treturn self.current.data\n",
    "    \n",
    "\tdef size(self):\n",
    "\t\treturn self.num_of_data "
   ]
  },
  {
   "cell_type": "markdown",
   "id": "185a0077",
   "metadata": {},
   "source": [
    "### 2. traverse_all 함수 추가\n",
    "먼저 데이터가 없는 경우 None을 반환한다.  \n",
    "current 노드를 head의 next로 선언하고 head를 출력한다.  \n",
    "반복문을 통해 노드의 값을 출력하고 current노드를 current.next로 선언함으로써 순차적 탐색을 한다.  \n",
    "탐색을 마치고 null을 출력한다"
   ]
  },
  {
   "cell_type": "code",
   "execution_count": null,
   "id": "214ead3b",
   "metadata": {},
   "outputs": [],
   "source": [
    "def traverse_all(self):\n",
    "        if self.num_of_data == 0:\n",
    "            return None\n",
    "        self.current = self.head.next\n",
    "        print(\"head -> \", end=\"\")\n",
    "        while self.current is not None:\n",
    "            print(\"(\"+str(self.current.data)+\") -> \", end=\"\")\n",
    "            self.current = self.current.next\n",
    "        print(\"null\")      "
   ]
  }
 ],
 "metadata": {
  "kernelspec": {
   "display_name": "Python 3 (ipykernel)",
   "language": "python",
   "name": "python3"
  },
  "language_info": {
   "codemirror_mode": {
    "name": "ipython",
    "version": 3
   },
   "file_extension": ".py",
   "mimetype": "text/x-python",
   "name": "python",
   "nbconvert_exporter": "python",
   "pygments_lexer": "ipython3",
   "version": "3.10.9"
  },
  "toc": {
   "base_numbering": 1,
   "nav_menu": {},
   "number_sections": false,
   "sideBar": true,
   "skip_h1_title": false,
   "title_cell": "Table of Contents",
   "title_sidebar": "Contents",
   "toc_cell": false,
   "toc_position": {
    "height": "603.333px",
    "left": "89px",
    "top": "110.229px",
    "width": "165px"
   },
   "toc_section_display": true,
   "toc_window_display": true
  },
  "varInspector": {
   "cols": {
    "lenName": 16,
    "lenType": 16,
    "lenVar": 40
   },
   "kernels_config": {
    "python": {
     "delete_cmd_postfix": "",
     "delete_cmd_prefix": "del ",
     "library": "var_list.py",
     "varRefreshCmd": "print(var_dic_list())"
    },
    "r": {
     "delete_cmd_postfix": ") ",
     "delete_cmd_prefix": "rm(",
     "library": "var_list.r",
     "varRefreshCmd": "cat(var_dic_list()) "
    }
   },
   "oldHeight": 122.85466599999998,
   "position": {
    "height": "40px",
    "left": "474px",
    "right": "20px",
    "top": "120px",
    "width": "250px"
   },
   "types_to_exclude": [
    "module",
    "function",
    "builtin_function_or_method",
    "instance",
    "_Feature"
   ],
   "varInspector_section_display": "none",
   "window_display": false
  }
 },
 "nbformat": 4,
 "nbformat_minor": 5
}
